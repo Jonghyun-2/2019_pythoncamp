{
 "cells": [
  {
   "cell_type": "code",
   "execution_count": 28,
   "metadata": {},
   "outputs": [],
   "source": [
    "def startree(x):\n",
    "    f= open('tree.txt','w')\n",
    "    val2 = 0\n",
    "    val1 = 0\n",
    "    for rep in range(x):\n",
    "        amt = (1 + (2 * rep))      #별의 개수 생성용 식\n",
    "        space = 0                  #빈칸의 개수 생성 식 \n",
    "        while space < x-1:        #빈칸 생성\n",
    "            print(' ', end='')\n",
    "            f.write(' ')\n",
    "            space += 1\n",
    "        x -= 1\n",
    "        while val1 < amt:         #별의 갯수 출력\n",
    "            print('*',end = '')\n",
    "            f.write('*')\n",
    "            val1 +=1\n",
    "        val1 = 0\n",
    "        print('')                #개행을 위해 필요\n",
    "        f.write('\\n')\n",
    "    f.close()"
   ]
  },
  {
   "cell_type": "code",
   "execution_count": 30,
   "metadata": {},
   "outputs": [
    {
     "name": "stdout",
     "output_type": "stream",
     "text": [
      "몇 층짜리 트리를 만들까요? : 10\n",
      "         *\n",
      "        ***\n",
      "       *****\n",
      "      *******\n",
      "     *********\n",
      "    ***********\n",
      "   *************\n",
      "  ***************\n",
      " *****************\n",
      "*******************\n"
     ]
    }
   ],
   "source": [
    "x = int(input('몇 층짜리 트리를 만들까요? : '))\n",
    "\n",
    "startree(x)"
   ]
  }
 ],
 "metadata": {
  "kernelspec": {
   "display_name": "Python 3",
   "language": "python",
   "name": "python3"
  },
  "language_info": {
   "codemirror_mode": {
    "name": "ipython",
    "version": 3
   },
   "file_extension": ".py",
   "mimetype": "text/x-python",
   "name": "python",
   "nbconvert_exporter": "python",
   "pygments_lexer": "ipython3",
   "version": "3.6.5"
  }
 },
 "nbformat": 4,
 "nbformat_minor": 2
}
