{
 "cells": [
  {
   "cell_type": "markdown",
   "metadata": {},
   "source": [
    "a = cookie() 에서\n",
    "\n",
    "a : 객체\n",
    "a : 클래스 cookie의 인스턴스"
   ]
  },
  {
   "cell_type": "code",
   "execution_count": null,
   "metadata": {},
   "outputs": [],
   "source": []
  },
  {
   "cell_type": "code",
   "execution_count": 15,
   "metadata": {},
   "outputs": [],
   "source": [
    "class FourCal :\n",
    "    def setdata(self, first, second) :\n",
    "        self.first = first\n",
    "        self. sceond = second\n",
    "        \n",
    "    def add(self) :\n",
    "        self.first + self.sceond\n",
    "        return self.first + self.sceond"
   ]
  },
  {
   "cell_type": "code",
   "execution_count": null,
   "metadata": {},
   "outputs": [],
   "source": []
  },
  {
   "cell_type": "code",
   "execution_count": null,
   "metadata": {},
   "outputs": [],
   "source": []
  },
  {
   "cell_type": "code",
   "execution_count": 10,
   "metadata": {},
   "outputs": [],
   "source": [
    "class Flight : \n",
    "    def flying(self):\n",
    "        print('비행기가 비행중입니다.')\n",
    "    \n",
    "    def engine_break(self):\n",
    "        print('비행기의 엔진이 고장났습니다.')\n",
    "        \n",
    "    def take_off(self, start):\n",
    "        print('비행기가 %s에서 출발합니다.'%start)\n",
    "        \n",
    "    def landing(self, end):\n",
    "        print('비행기가 %에 도착했습니다'%end)"
   ]
  },
  {
   "cell_type": "code",
   "execution_count": 11,
   "metadata": {},
   "outputs": [],
   "source": [
    "A = Flight()\n",
    "B = Flight()"
   ]
  },
  {
   "cell_type": "code",
   "execution_count": 12,
   "metadata": {},
   "outputs": [
    {
     "name": "stdout",
     "output_type": "stream",
     "text": [
      "비행기가 비행중입니다.\n"
     ]
    }
   ],
   "source": [
    "A.flying()"
   ]
  },
  {
   "cell_type": "code",
   "execution_count": 13,
   "metadata": {},
   "outputs": [
    {
     "name": "stdout",
     "output_type": "stream",
     "text": [
      "비행기가 인천에서 출발합니다.\n"
     ]
    }
   ],
   "source": [
    "B.take_off('인천')"
   ]
  },
  {
   "cell_type": "code",
   "execution_count": null,
   "metadata": {},
   "outputs": [],
   "source": []
  },
  {
   "cell_type": "code",
   "execution_count": null,
   "metadata": {},
   "outputs": [],
   "source": []
  }
 ],
 "metadata": {
  "kernelspec": {
   "display_name": "Python 3",
   "language": "python",
   "name": "python3"
  },
  "language_info": {
   "codemirror_mode": {
    "name": "ipython",
    "version": 3
   },
   "file_extension": ".py",
   "mimetype": "text/x-python",
   "name": "python",
   "nbconvert_exporter": "python",
   "pygments_lexer": "ipython3",
   "version": "3.6.5"
  }
 },
 "nbformat": 4,
 "nbformat_minor": 2
}
