{
 "cells": [
  {
   "cell_type": "markdown",
   "metadata": {},
   "source": [
    "Exercise 105: Reverse Order\n",
    "\n",
    "(20 Lines)\n",
    "\n",
    "Write a program that reads integers from the user and stores them in a list. Use 0 as\n",
    "a sentinel value to mark the end of the input. Once all of the values have been read\n",
    "your program should display them (except for the 0) in reverse order, with one value\n",
    "appearing on each line.\n",
    "\n",
    "\n",
    "사용자로부터 정수를 읽고 목록에 저장하는 프로그램을 작성하십시오. 0을 다음과 같이 사용하십시오.\n",
    "입력의 끝을 표시하는 센티널 값. 일단 모든 값이 읽혀지면\n",
    "당신의 프로그램은 그것들을 (0을 제외하고) 역순으로 하나의 값으로 표시해야한다.\n",
    "각 줄에 나타납니다."
   ]
  },
  {
   "cell_type": "code",
   "execution_count": 7,
   "metadata": {},
   "outputs": [
    {
     "name": "stdout",
     "output_type": "stream",
     "text": [
      "input number : 1\n",
      "input number : 2\n",
      "input number : 3\n",
      "input number : fff\n",
      "enter only int!\n",
      "input number : 4\n",
      "input number : 5\n",
      "input number : 6\n",
      "input number : 0\n",
      "[1, 2, 3, 4, 5, 6]\n",
      "-------\n",
      "6\n",
      "5\n",
      "4\n",
      "3\n",
      "2\n",
      "1\n"
     ]
    }
   ],
   "source": [
    "data_list=[]\n",
    "\n",
    "while True:\n",
    "    try:\n",
    "        data = int(input('input number : '))\n",
    "    except ValueError:\n",
    "        print('enter only int!')\n",
    "        continue\n",
    "    except ZeroDivisionError:\n",
    "        pass\n",
    "\n",
    "    if data == 0:\n",
    "        break\n",
    "\n",
    "    data_list.append(data)\n",
    "            \n",
    "print(data_list)\n",
    "data_list.reverse()\n",
    "print('-------')\n",
    "for data in data_list:\n",
    "    print(data)"
   ]
  },
  {
   "cell_type": "code",
   "execution_count": 1,
   "metadata": {},
   "outputs": [
    {
     "name": "stdout",
     "output_type": "stream",
     "text": [
      "input number : 2\n",
      "3\n",
      "4\n",
      "5\n",
      "0\n",
      "-------\n",
      "5\n",
      "4\n",
      "3\n",
      "2\n"
     ]
    }
   ],
   "source": [
    "data = input('input number : ')\n",
    "data_list=[]\n",
    "while data != '0':\n",
    "    data_list.append(data)\n",
    "    data = input()\n",
    "    if data == '0':\n",
    "        break\n",
    "data_list.reverse()\n",
    "print('-------')\n",
    "for end in data_list:\n",
    "    print(end)"
   ]
  },
  {
   "cell_type": "code",
   "execution_count": null,
   "metadata": {},
   "outputs": [],
   "source": []
  },
  {
   "cell_type": "markdown",
   "metadata": {},
   "source": [
    "Exercise 108: Negatives, Zeros and Positives\n",
    "\n",
    "(Solved—38 Lines)\n",
    "\n",
    "Create a program that reads integers from the user until a blank line is entered. Once\n",
    "all of the integers have been read your program should display all of the negative\n",
    "numbers, followed by all of the zeros, followed by all of the positive numbers. Within\n",
    "each group the numbers should be displayed in the same order that they were entered\n",
    "by the user. For example, if the user enters the values 3, -4, 1, 0, -1, 0, and -2 then\n",
    "your program should output the values -4, -1, -2, 0, 0, 3, and 1. Your program\n",
    "should display each value on its own line."
   ]
  },
  {
   "cell_type": "markdown",
   "metadata": {},
   "source": [
    "공백 행이 입력 될 때까지 사용자로부터 정수를 읽는 프로그램을 작성하십시오. 일단\n",
    "모든 정수가 읽혔습니다. 프로그램에서 음수를 모두 표시해야합니다.\n",
    "숫자 다음에 모든 0이오고 양수가 모두옵니다. 이내에\n",
    "각 그룹은 숫자가 입력 된 것과 동일한 순서로 표시되어야합니다.\n",
    "사용자가 예를 들어 사용자가 3, -4, 1, 0, -1, 0 및 -2 값을 입력하면\n",
    "프로그램은 -4, -1, -2, 0, 0, 3 및 1 값을 출력해야합니다. 프로그램\n",
    "각 값을 자체 행에 표시해야합니다."
   ]
  },
  {
   "cell_type": "markdown",
   "metadata": {},
   "source": [
    "How to Sol\n",
    "\n",
    "1. 공백이 나올때 까지 수를 받아서 리스트에 저장\n",
    "2. 3개의 리스트 생성 - 음수, 0 , 양수\n",
    "3. list + list + list 사용 해서 배열 \n",
    "\n",
    "음수인지 양수인지 0 인지 알아야함  -> int 사용 필요!"
   ]
  },
  {
   "cell_type": "code",
   "execution_count": null,
   "metadata": {
    "scrolled": true
   },
   "outputs": [],
   "source": [
    "data = input('input num : ')\n",
    "neg_list = []\n",
    "zero_list = []\n",
    "pos_list = []\n",
    "data_list = []\n",
    "\n",
    "while data != ' ':\n",
    "    if data == ' ':\n",
    "        break\n",
    "    else:\n",
    "        data_list.append(data)\n",
    "    data = input('')\n",
    "    \n",
    "for check in data_list:\n",
    "    if int(check) < 0: \n",
    "        neg_list.append(check)\n",
    "    elif int(check) == 0:\n",
    "        zero_list.append(check)\n",
    "    elif int(check) > 0:\n",
    "        pos_list.append(check)\n",
    "        \n",
    "print(neg_list+zero_list+pos_list)\n",
    "#숫자가 아닌 다른말이 들어가면 거르는 필터"
   ]
  },
  {
   "cell_type": "code",
   "execution_count": null,
   "metadata": {},
   "outputs": [],
   "source": [
    "type(check)"
   ]
  },
  {
   "cell_type": "markdown",
   "metadata": {},
   "source": [
    "Exercise 113: Formatting a List\n",
    "\n",
    "(Solved—43 Lines)\n",
    "\n",
    "When writing out a list of items in English, one normally separates the items with\n",
    "commas. In addition, the word “and” is normally included before the last item, unless\n",
    "the list only contains one item. Consider the following four lists:\n",
    "\n",
    "apples\n",
    "\n",
    "apples and oranges\n",
    "\n",
    "apples, oranges and bananas\n",
    "\n",
    "apples, oranges, bananas and lemons\n",
    "\n",
    "Write a function that takes a list of strings as its only parameter. Your function\n",
    "should return a string that contains all of the items in the list formatted in the manner\n",
    "described previously as its only result. While the examples shown previously only\n",
    "include lists containing four elements or less, your function should behave correctly\n",
    "for lists of any length. Include a main program that reads several items from the user,\n",
    "formats them by calling your function, and then displays the result returned by the\n",
    "function."
   ]
  },
  {
   "cell_type": "markdown",
   "metadata": {},
   "source": [
    "\n",
    "영어로 항목 목록을 작성할 때 일반적으로 항목을\n",
    "쉼표. 또한 단어 \"and\"는 일반적으로 마지막 항목 앞에 포함됩니다. 단,\n",
    "목록에는 하나의 항목 만 포함됩니다. 다음 네 가지 목록을 고려하십시오.\n",
    "\n",
    "사과\n",
    "\n",
    "사과와 오렌지\n",
    "\n",
    "사과, 오렌지, 바나나\n",
    "\n",
    "사과, 오렌지, 바나나, 레몬\n",
    "\n",
    "유일한 매개 변수로 문자열 목록을 사용하는 함수를 작성하십시오. 귀하의 기능\n",
    "방식으로 포맷 된 목록의 모든 항목을 포함하는 문자열을 반환해야합니다.\n",
    "그 결과로 이전에 설명했다. 이전에 보여준 예제들만\n",
    "4 개 이하의 요소를 포함하는 목록을 포함하면 함수가 올바르게 작동해야합니다.\n",
    "어떤 길이의 목록이든. 사용자로부터 여러 항목을 읽는 주 프로그램을 포함 시키십시오.\n",
    "함수를 호출하여 형식을 지정한 다음 해당 함수에서 반환 한 결과를 표시합니다.\n",
    "기능."
   ]
  },
  {
   "cell_type": "markdown",
   "metadata": {},
   "source": [
    "return 필요 x\n",
    "tuple 인덱싱 가능"
   ]
  },
  {
   "cell_type": "code",
   "execution_count": null,
   "metadata": {},
   "outputs": [],
   "source": [
    "str.join()"
   ]
  },
  {
   "cell_type": "code",
   "execution_count": 43,
   "metadata": {},
   "outputs": [],
   "source": [
    "def format_func(str_list):\n",
    "    formatted_str = ', '.join(str_list[:-1])\n",
    "    if len(str_list) > 1:\n",
    "        formatted_str = formatted_str + ' and ' + str_list[-1]\n",
    "    elif len(str_list) == 1:\n",
    "        formatted_str = str_list[0]\n",
    "    elif 조건식:\n",
    "        pass\n",
    "    else:\n",
    "    # elif len(str_list) < 1:\n",
    "        formatted_str = ''\n",
    "    \n",
    "    return formatted_str"
   ]
  },
  {
   "cell_type": "code",
   "execution_count": 44,
   "metadata": {},
   "outputs": [
    {
     "data": {
      "text/plain": [
       "'apple, banana, orange and lemon'"
      ]
     },
     "execution_count": 44,
     "metadata": {},
     "output_type": "execute_result"
    }
   ],
   "source": [
    "format_func(['apple','banana', 'orange', 'lemon'])"
   ]
  },
  {
   "cell_type": "code",
   "execution_count": 45,
   "metadata": {},
   "outputs": [
    {
     "data": {
      "text/plain": [
       "'apple, banana and orange'"
      ]
     },
     "execution_count": 45,
     "metadata": {},
     "output_type": "execute_result"
    }
   ],
   "source": [
    "format_func(['apple','banana', 'orange'])"
   ]
  },
  {
   "cell_type": "code",
   "execution_count": 46,
   "metadata": {},
   "outputs": [
    {
     "data": {
      "text/plain": [
       "'apple and banana'"
      ]
     },
     "execution_count": 46,
     "metadata": {},
     "output_type": "execute_result"
    }
   ],
   "source": [
    "format_func(['apple','banana'])"
   ]
  },
  {
   "cell_type": "code",
   "execution_count": 47,
   "metadata": {},
   "outputs": [
    {
     "data": {
      "text/plain": [
       "'apple'"
      ]
     },
     "execution_count": 47,
     "metadata": {},
     "output_type": "execute_result"
    }
   ],
   "source": [
    "format_func(['apple'])"
   ]
  },
  {
   "cell_type": "code",
   "execution_count": 48,
   "metadata": {},
   "outputs": [
    {
     "data": {
      "text/plain": [
       "''"
      ]
     },
     "execution_count": 48,
     "metadata": {},
     "output_type": "execute_result"
    }
   ],
   "source": [
    "format_func([])"
   ]
  },
  {
   "cell_type": "code",
   "execution_count": null,
   "metadata": {},
   "outputs": [],
   "source": [
    "type(aa)"
   ]
  },
  {
   "cell_type": "code",
   "execution_count": null,
   "metadata": {},
   "outputs": [],
   "source": [
    "def fruit(*args):\n",
    "    for a in args:\n",
    "        print(a ,end = '')\n",
    "        print(' ',end ='')\n",
    "    print('')\n",
    "fruit_list1 = fruit('apple','banana')\n",
    "fruit_list2 = fruit('apple','banana','orange')\n",
    "fruit_list3 = fruit('apple','banana', 'orange', 'lemon')"
   ]
  },
  {
   "cell_type": "code",
   "execution_count": null,
   "metadata": {},
   "outputs": [],
   "source": [
    "def fruit(*args):\n",
    "    res = 1\n",
    "    for a in args:          #type a =  str, type args = tuple * 인덱싱 가능\n",
    "        print(a + ' ' ,end = '')\n",
    "        if res < len(args)-1  :      #args = 2 일경우 \n",
    "            print(',',end ='')\n",
    "        elif res == len(args)-1 :\n",
    "            print('and ',end = '')\n",
    "        res += 1\n",
    "    print('')\n",
    "    \n",
    "fruit_list = fruit('apple')\n",
    "fruit_list1 = fruit('apple','banana')\n",
    "fruit_list2 = fruit('apple','banana','orange')\n",
    "fruit_list3 = fruit('apple','banana', 'orange', 'lemon')"
   ]
  },
  {
   "cell_type": "code",
   "execution_count": null,
   "metadata": {},
   "outputs": [],
   "source": []
  },
  {
   "cell_type": "markdown",
   "metadata": {},
   "source": [
    "Exercise 134: Unique Characters\n",
    "    \n",
    "(Solved—14 Lines)\n",
    "\n",
    "Create a program that determines and displays the number of unique characters in a\n",
    "string entered by the user. For example, Hello, World! has 10 unique characters\n",
    "whilezzzhas only one unique character. Use a dictionary or set to solve this problem."
   ]
  },
  {
   "cell_type": "markdown",
   "metadata": {},
   "source": [
    "사용자가 입력 한 문자열에 고유 한 문자 수를 결정하고 표시하는 프로그램을 만듭니다. 예를 들어 Hello, World! 에는 10 개의 고유 한 문자가 있습니다 반면 zzz에는 단 하나의 고유 한 문자가있습니다. use dicrionary or set 문제를 해결하기 위해 설정하십시오."
   ]
  },
  {
   "cell_type": "markdown",
   "metadata": {},
   "source": [
    "~~뭔가 2중for문 사용하면...~~\n",
    "\n",
    "set형은 중복 허용 x"
   ]
  },
  {
   "cell_type": "code",
   "execution_count": 28,
   "metadata": {},
   "outputs": [
    {
     "name": "stdout",
     "output_type": "stream",
     "text": [
      "Enter : aaaaaAAAAA\n",
      "unique character = 1\n"
     ]
    }
   ],
   "source": [
    "input_data = set(input('Enter : ').lower())\n",
    "\n",
    "print('unique character = %d'%len(input_data))"
   ]
  },
  {
   "cell_type": "markdown",
   "metadata": {},
   "source": [
    "iterable - 반복가능 \n",
    "str - 한글자씩\n",
    "list,set, -한 요소씩 iter"
   ]
  },
  {
   "cell_type": "code",
   "execution_count": 27,
   "metadata": {},
   "outputs": [
    {
     "data": {
      "text/plain": [
       "'FASECSASDAFASFJSALFDJ'"
      ]
     },
     "execution_count": 27,
     "metadata": {},
     "output_type": "execute_result"
    }
   ],
   "source": [
    "'FASECSAsdafasfjsalfdj'.upper()"
   ]
  },
  {
   "cell_type": "code",
   "execution_count": null,
   "metadata": {},
   "outputs": [],
   "source": []
  },
  {
   "cell_type": "markdown",
   "metadata": {},
   "source": [
    "Exercise 61: Average\n",
    "\n",
    "In this exercise you will create a program that computes the average of a collection\n",
    "of values entered by the user. The user will enter 0 as a sentinel value to indicate\n",
    "that no further values will be provided. Your program should display an appropriate\n",
    "error message if the first value entered by the user is 0."
   ]
  },
  {
   "cell_type": "code",
   "execution_count": null,
   "metadata": {},
   "outputs": [],
   "source": [
    "avg = int(input('Enter :'))\n",
    "avg_list = []\n",
    "tot = 0\n",
    "if avg == 0:\n",
    "    print ('Enter except 0')\n",
    "else : \n",
    "    print('hi')"
   ]
  },
  {
   "cell_type": "code",
   "execution_count": null,
   "metadata": {},
   "outputs": [],
   "source": []
  },
  {
   "cell_type": "code",
   "execution_count": 33,
   "metadata": {},
   "outputs": [
    {
     "name": "stdout",
     "output_type": "stream",
     "text": [
      "Enter : 1\n"
     ]
    },
    {
     "ename": "NameError",
     "evalue": "name 'tot' is not defined",
     "output_type": "error",
     "traceback": [
      "\u001b[1;31m---------------------------------------------------------------------------\u001b[0m",
      "\u001b[1;31mNameError\u001b[0m                                 Traceback (most recent call last)",
      "\u001b[1;32m<ipython-input-33-895b45952de2>\u001b[0m in \u001b[0;36m<module>\u001b[1;34m()\u001b[0m\n\u001b[0;32m      7\u001b[0m     \u001b[1;32mwhile\u001b[0m \u001b[1;32mTrue\u001b[0m \u001b[1;33m:\u001b[0m\u001b[1;33m\u001b[0m\u001b[0m\n\u001b[0;32m      8\u001b[0m         \u001b[1;32mif\u001b[0m \u001b[0mdata\u001b[0m \u001b[1;33m!=\u001b[0m \u001b[1;36m0\u001b[0m\u001b[1;33m:\u001b[0m\u001b[1;33m\u001b[0m\u001b[0m\n\u001b[1;32m----> 9\u001b[1;33m             \u001b[0mtot\u001b[0m \u001b[1;33m+=\u001b[0m \u001b[0mdata\u001b[0m\u001b[1;33m\u001b[0m\u001b[0m\n\u001b[0m\u001b[0;32m     10\u001b[0m             \u001b[0maa\u001b[0m \u001b[1;33m+=\u001b[0m \u001b[1;36m1\u001b[0m\u001b[1;33m\u001b[0m\u001b[0m\n\u001b[0;32m     11\u001b[0m             \u001b[0mdata\u001b[0m \u001b[1;33m=\u001b[0m \u001b[0mint\u001b[0m\u001b[1;33m(\u001b[0m\u001b[0minput\u001b[0m\u001b[1;33m(\u001b[0m\u001b[1;33m)\u001b[0m\u001b[1;33m)\u001b[0m\u001b[1;33m\u001b[0m\u001b[0m\n",
      "\u001b[1;31mNameError\u001b[0m: name 'tot' is not defined"
     ]
    }
   ],
   "source": [
    "tot = 0\n",
    "data =  int(input('Enter : '))\n",
    "aa = 0\n",
    "if data == 0 :\n",
    "    print('enter except 0')\n",
    "else :\n",
    "    while True :\n",
    "        if data != 0:\n",
    "            tot += data\n",
    "            aa += 1\n",
    "            data = int(input())\n",
    "        else :\n",
    "            print ('average is %f'%(tot/aa))\n",
    "            break"
   ]
  },
  {
   "cell_type": "code",
   "execution_count": 34,
   "metadata": {},
   "outputs": [
    {
     "name": "stdout",
     "output_type": "stream",
     "text": [
      "1\n",
      "2\n",
      "3\n",
      "4\n",
      "5\n",
      "0\n"
     ]
    }
   ],
   "source": [
    "data_list = []\n",
    "\n",
    "while True :\n",
    "    data = int(input())\n",
    "    \n",
    "    if data == 0:\n",
    "        break\n",
    "    else:\n",
    "        data_list.append(data)"
   ]
  },
  {
   "cell_type": "code",
   "execution_count": 35,
   "metadata": {},
   "outputs": [
    {
     "data": {
      "text/plain": [
       "[1, 2, 3, 4, 5]"
      ]
     },
     "execution_count": 35,
     "metadata": {},
     "output_type": "execute_result"
    }
   ],
   "source": [
    "data_list"
   ]
  },
  {
   "cell_type": "code",
   "execution_count": 36,
   "metadata": {},
   "outputs": [
    {
     "data": {
      "text/plain": [
       "15"
      ]
     },
     "execution_count": 36,
     "metadata": {},
     "output_type": "execute_result"
    }
   ],
   "source": [
    "sum(data_list)"
   ]
  },
  {
   "cell_type": "code",
   "execution_count": 37,
   "metadata": {},
   "outputs": [
    {
     "data": {
      "text/plain": [
       "3.0"
      ]
     },
     "execution_count": 37,
     "metadata": {},
     "output_type": "execute_result"
    }
   ],
   "source": [
    "sum(data_list) / len(data_list)"
   ]
  },
  {
   "cell_type": "markdown",
   "metadata": {},
   "source": [
    "Exercise 66: Compute a Grade Point Average\n",
    "\n",
    "(62 Lines)\n",
    "\n",
    "Exercise 51 included a table that shows the conversion from letter grades to grade\n",
    "points at a particular academic institution. In this exercise you will compute the\n",
    "grade point average of an arbitrary number of letter grades entered by the user. The\n",
    "user will enter a blank line to indicate that all of the grades have been provided. For\n",
    "example, if the user enters A, followed by C+, followed by B, followed by a blank\n",
    "line then your program should report a grade point average of 3.1.\n",
    "You may find your solution to Exercise 51 helpful when completing this exercise.\n",
    "Your program does not need to do any error checking. It can assume that each value\n",
    "entered by the user will always be a valid letter grade or a blank line."
   ]
  },
  {
   "cell_type": "markdown",
   "metadata": {},
   "source": [
    "exercise 51없음 그래서 그냥 성적 입력 = 평점계산 프로그래밍함"
   ]
  },
  {
   "cell_type": "code",
   "execution_count": null,
   "metadata": {},
   "outputs": [],
   "source": [
    "point = {'A+':4.5, 'A':4.0, 'B+':3.5,'B':3.0,'C+':2.5,'C':2.0}\n",
    "div = 1\n",
    "data = input('Enter your grade : ')\n",
    "tot = point[data]\n",
    "while True :\n",
    "    data = input('Next grade : ')\n",
    "    if data in point.keys():\n",
    "        tot += point[data]\n",
    "        div += 1\n",
    "    elif data == '':\n",
    "        break\n",
    "    else:\n",
    "        print('Wrong')\n",
    "        continue\n",
    "a = (tot/div)\n",
    "print('Avg : %f'%a )"
   ]
  },
  {
   "cell_type": "code",
   "execution_count": null,
   "metadata": {},
   "outputs": [],
   "source": []
  },
  {
   "cell_type": "markdown",
   "metadata": {},
   "source": [
    "Exercise 72: Is a String a Palindrome?\n",
    "    \n",
    "(Solved—23 Lines)\n",
    "\n",
    "A string is a palindrome if it is identical forward and backward. For example “anna”,\n",
    "“civic”, “level” and “hannah” are all examples of palindromic words.Write a program\n",
    "that reads a string from the user and uses a loop to determines whether or not it is a\n",
    "palindrome. Display the result, including a meaningful output message."
   ]
  },
  {
   "cell_type": "markdown",
   "metadata": {},
   "source": [
    "\n",
    "문자열은 전후방이 동일 할 경우 회문입니다. 예를 들어 \"anna\", \"civic\", \"level\"및 \"hannah\"는 모두 회문 단어의 예입니다. 사용자로부터 문자열을 읽고 회 돌이인지 여부를 결정하는 루프를 사용하는 프로그램을 작성하십시오. 의미있는 출력 메시지를 포함하여 결과를 표시하십시오."
   ]
  },
  {
   "cell_type": "code",
   "execution_count": null,
   "metadata": {},
   "outputs": [],
   "source": [
    "data = tuple(input())\n",
    "a = 0\n",
    "while a < len(data):\n",
    "    if data[a] != data[-1-a]:\n",
    "        print('no')\n",
    "        break\n",
    "    elif data[a] == data[-1-a]:\n",
    "        a += 1\n",
    "    if a ==len(data):\n",
    "        print('oooooooo')"
   ]
  },
  {
   "cell_type": "code",
   "execution_count": null,
   "metadata": {},
   "outputs": [],
   "source": []
  },
  {
   "cell_type": "markdown",
   "metadata": {},
   "source": [
    "Exercise 75: Greatest Common Divisor\n",
    "    \n",
    "(Solved—17 Lines)\n",
    "\n",
    "The greatest common divisor of two positive integers, n and m, is the largest number,\n",
    "d, which divides evenly into both n and m. There are several algorithms that can be\n",
    "used to solve this problem, including:\n",
    "Initialize d to the smaller of m and n.\n",
    "While d does not evenly divide m or d does not evenly divide n do\n",
    "Decrease the value of d by 1\n",
    "Report d as the greatest common divisor of n and m\n",
    "Write a program that reads two positive integers from the user and uses this algorithm\n",
    "to determine and report their greatest common divisor."
   ]
  },
  {
   "cell_type": "markdown",
   "metadata": {},
   "source": [
    "최대 공약수를 구해라"
   ]
  },
  {
   "cell_type": "code",
   "execution_count": 46,
   "metadata": {},
   "outputs": [
    {
     "name": "stdout",
     "output_type": "stream",
     "text": [
      "Enter N : 15\n",
      "Enter M : 30\n",
      "[1, 3, 5, 15]\n",
      "[1, 2, 3, 5, 6, 10, 15, 30]\n",
      "15\n"
     ]
    },
    {
     "data": {
      "text/plain": [
       "15"
      ]
     },
     "execution_count": 46,
     "metadata": {},
     "output_type": "execute_result"
    }
   ],
   "source": [
    "n = int(input('Enter N : '))\n",
    "m = int(input('Enter M : '))\n",
    "\n",
    "n_list = []\n",
    "m_list = []\n",
    "\n",
    "for div in range(1,n+1):\n",
    "    if n % div == 0:\n",
    "        n_list.append(div)\n",
    "        div + 1\n",
    "print(n_list)\n",
    "\n",
    "for div in range(1,m+1):\n",
    "    if m % div == 0:\n",
    "        m_list.append(div)\n",
    "        div + 1\n",
    "print(m_list)\n",
    "n_list.reverse()\n",
    "\n",
    "func(n_list, m_list)\n",
    "#함수만들기를 생활화하자\n",
    "def func(n_list, m_list):\n",
    "    for find1 in n_list:\n",
    "        for find2 in m_list:\n",
    "            if find1 == find2:\n",
    "                print(find1)\n",
    "\n",
    "                return find1"
   ]
  },
  {
   "cell_type": "code",
   "execution_count": 43,
   "metadata": {},
   "outputs": [],
   "source": [
    "def func(n_list, m_list):\n",
    "    for find1 in n_list:\n",
    "        for find2 in m_list:\n",
    "            if find1 == find2:\n",
    "                print(find1)\n",
    "\n",
    "                return find1"
   ]
  },
  {
   "cell_type": "code",
   "execution_count": null,
   "metadata": {},
   "outputs": [],
   "source": [
    "거짓이면 종료\n",
    ">>> treeHit = 0\n",
    ">>> while treeHit < 10:\n",
    "...     treeHit = treeHit +1\n",
    "...     print(\"나무를 %d번 찍었습니다.\" % treeHit)\n",
    "...     if treeHit == 10:\n",
    "...         print(\"나무 넘어갑니다.\")\n",
    "...\n",
    "나무를 1번 찍었습니다.\n",
    "나무를 2번 찍었습니다.\n",
    "나무를 3번 찍었습니다.\n",
    "나무를 4번 찍었습니다.\n",
    "나무를 5번 찍었습니다.\n",
    "나무를 6번 찍었습니다.\n",
    "나무를 7번 찍었습니다.\n",
    "나무를 8번 찍었습니다.\n",
    "나무를 9번 찍었습니다.\n",
    "나무를 10번 찍었습니다.\n",
    "나무 넘어갑니다."
   ]
  },
  {
   "cell_type": "code",
   "execution_count": null,
   "metadata": {},
   "outputs": [],
   "source": []
  },
  {
   "cell_type": "markdown",
   "metadata": {},
   "source": [
    "Exercise 78: Decimal to Binary\n",
    "\n",
    "(Solved—26 Lines)\n",
    "\n",
    "Write a program that converts a decimal (base 10) number to binary (base 2). Read the\n",
    "decimal number from the user as an integer and then use the division algorithm shown\n",
    "below to perform the conversion. When the algorithm completes, result contains the\n",
    "binary representation of the number. Display the result, along with an appropriate\n",
    "message.\n",
    "Let result be an empty string\n",
    "Let q represent the number to convert\n",
    "repeat\n",
    "Set r equal to the remainder when q is divided by 2\n",
    "Convert r to a string and add it to the beginning of result\n",
    "Divide q by 2, discarding any remainder, and store the result back into q\n",
    "until q is 0\n",
    "\n",
    "\n",
    "\n",
    "10 진수 (기수 10)를 2 진수 (기수 2)로 변환하는 프로그램을 작성하십시오. 사용자로부터 10 진수를 정수로 읽은 다음 아래의 나누기 알고리즘을 사용하여 변환을 수행하십시오. 알고리즘이 완료되면 결과에 숫자의 2 진 표현이 포함됩니다. 적절한 메시지와 함께 결과를 표시하십시오. 결과를 빈 문자열로 둡니다. q를 반복 변환 할 숫자로 나타냅니다. q를 2로 나눈 나머지를 r로 설정합니다. r을 문자열로 변환하여 결과의 ​​처음에 추가합니다. q를 2로 나누고 나머지를 버리고 저장합니다. q가 0이 될 때까지 결과를 q로 되 돌린다."
   ]
  },
  {
   "cell_type": "markdown",
   "metadata": {},
   "source": [
    "10진법의 수를 받아서 2진법으로 나타내는 프로그램"
   ]
  },
  {
   "cell_type": "code",
   "execution_count": 12,
   "metadata": {},
   "outputs": [
    {
     "name": "stdout",
     "output_type": "stream",
     "text": [
      "Enter number : 5\n",
      "You enter : 5\n",
      "Binary : 101"
     ]
    }
   ],
   "source": [
    "input_data = int(input('Enter number : '))\n",
    "data = input_data\n",
    "binary_list = []\n",
    "while True : \n",
    "    if input_data % 2 == 0:\n",
    "        binary_list.append(0)\n",
    "        input_data /= 2\n",
    "    else:\n",
    "        binary_list.append(1)\n",
    "        input_data -= 1\n",
    "        input_data /= 2\n",
    "    if input_data == 0:\n",
    "        break\n",
    "    if input_data == 1:\n",
    "        binary_list.append(1)\n",
    "        break\n",
    "        \n",
    "binary_list.reverse()\n",
    "print('You enter : %d' %data)\n",
    "print('Binary : ',end = '')\n",
    "for binary in binary_list:\n",
    "    print(binary, end ='')\n"
   ]
  },
  {
   "cell_type": "code",
   "execution_count": null,
   "metadata": {},
   "outputs": [],
   "source": []
  },
  {
   "cell_type": "markdown",
   "metadata": {},
   "source": [
    "Exercise 84: Median of Three Values\n",
    "\n",
    "(Solved—42 Lines)\n",
    "\n",
    "Write a function that takes three numbers as parameters, and returns the median value\n",
    "of those parameters as its result. Include a main program that reads three values from\n",
    "the user and displays their median."
   ]
  },
  {
   "cell_type": "markdown",
   "metadata": {},
   "source": [
    "세 개의 숫자를 매개 변수로 취하고 중간 값을 반환하는 함수를 작성하십시오.\n",
    "그 결과로 그 매개 변수의. 에서 세 가지 값을 읽는 주 프로그램을 포함하십시오.\n",
    "사용자가 자신의 중간 값을 표시합니다."
   ]
  },
  {
   "cell_type": "markdown",
   "metadata": {},
   "source": [
    "1. 값을받는다\n",
    "2. 리스트로 받는다\n",
    "3. for문으로 3개 평균"
   ]
  },
  {
   "cell_type": "code",
   "execution_count": 22,
   "metadata": {},
   "outputs": [
    {
     "name": "stdout",
     "output_type": "stream",
     "text": [
      "Enter : 3\n",
      "Enter : 5\n",
      "Enter : 6\n"
     ]
    },
    {
     "data": {
      "text/plain": [
       "4.666666666666667"
      ]
     },
     "execution_count": 22,
     "metadata": {},
     "output_type": "execute_result"
    }
   ],
   "source": [
    "data_list = []\n",
    "tot = 0\n",
    "\n",
    "for repeat in range(3):\n",
    "    data = int(input(\"Enter : \"))\n",
    "    data_list.append(data)\n",
    "    \n",
    "for repeat in data_list:\n",
    "    tot += repeat\n",
    "avg = (tot/3)\n",
    "avg"
   ]
  },
  {
   "cell_type": "code",
   "execution_count": null,
   "metadata": {},
   "outputs": [],
   "source": []
  },
  {
   "cell_type": "markdown",
   "metadata": {},
   "source": [
    "Exercise 86: The Twelve Days of Christmas\n",
    "\n",
    "(Solved—48 Lines)\n",
    "\n",
    "The Twelve Days of Christmas is a repetitive song that describes an increasingly\n",
    "long list of gifts sent to one’s true love on each of 12 days. A single gift is sent on\n",
    "the first day. A new gift is added to the collection on each additional day, and then\n",
    "the complete collection is sent. The first three verses of the song are shown below.\n",
    "The complete lyrics are available on the internet.\n",
    "\n",
    "On the first day of Christmas\n",
    "\n",
    "my true love sent to me:\n",
    "\n",
    "A partridge in a pear tree.\n",
    "\n",
    "On the second day of Christmas\n",
    "\n",
    "my true love sent to me:\n",
    "\n",
    "Two turtle doves,\n",
    "\n",
    "And a partridge in a pear tree.\n",
    "\n",
    "On the third day of Christmas\n",
    "\n",
    "my true love sent to me:\n",
    "\n",
    "Three French hens,\n",
    "\n",
    "Two turtle doves,\n",
    "\n",
    "And a partridge in a pear tree.\n",
    "\n",
    "Your task is to write a program that displays the complete lyrics for The Twelve\n",
    "Days of Christmas. Write a function that takes the verse number as its only parameter\n",
    "and displays the specified verse of the song. Then call that function 12 times with\n",
    "integers that increase from 1 to 12.\n",
    "Each item that is sent to the recipient in the song should only appear once in your\n",
    "program, with the possible exception of the partridge. It may appear twice if that\n",
    "helps you handle the difference between “A partridge in a pear tree” in the first verse\n",
    "and “And a partridge in a pear tree” in the subsequent verses. Import your solution\n",
    "to Exercise 85 to help you complete this exercise."
   ]
  },
  {
   "cell_type": "code",
   "execution_count": null,
   "metadata": {},
   "outputs": [],
   "source": []
  },
  {
   "cell_type": "markdown",
   "metadata": {},
   "source": [
    "# 89 Capitalize it\n",
    "\n",
    "Many people do not use capital letters correctly, especially when typing on small\n",
    "devices like smart phones. In this exercise, you will write a function that capitalizes\n",
    "the appropriate characters in a string. A lowercase “i” should be replaced with an\n",
    "uppercase “I” if it is both preceded and followed by a space. The first character in\n",
    "the string should also be capitalized, as well as the first non-space character after a\n",
    "“.”, “!” or “?”. For example, if the function is provided with the string “what time\n",
    "do i have to be there? what’s the address?” then it should return the string “What\n",
    "time do I have to be there? What’s the address?”. Include a main program that reads\n",
    "a string from the user, capitalizes it using your function, and displays the result."
   ]
  },
  {
   "cell_type": "markdown",
   "metadata": {},
   "source": [
    "1. 처음 시작할때 대문자\n",
    "2. 특수기호 후에 대문자\n",
    "3. 띄어쓰기 다음엔 대문자 하면 x"
   ]
  },
  {
   "cell_type": "code",
   "execution_count": 3,
   "metadata": {},
   "outputs": [
    {
     "name": "stdout",
     "output_type": "stream",
     "text": [
      "Input string :  i \n",
      " i \n"
     ]
    }
   ],
   "source": [
    "num = 0\n",
    "before_fix = list(input('Input string : '))\n",
    "\n",
    "cap = before_fix[0].upper()\n",
    "before_fix[0] = cap\n",
    "\n",
    "for temp in before_fix:\n",
    "    if temp == '?':\n",
    "        fix = before_fix[(num+2)].upper()  #?(0) 띄어쓰기(1) 다음대문자(2)\n",
    "        before_fix[(num+2)] = fix #대문자로 재지정\n",
    "    elif temp == '!':\n",
    "        fix = before_fix[(num+2)].upper()  \n",
    "        before_fix[(num+2)] = fix\n",
    "    elif temp == '.':\n",
    "        fix = before_fix[(num+2)].upper()  \n",
    "        before_fix[(num+2)] = fix\n",
    "    \n",
    "    num += 1\n",
    "    \n",
    "after_fix = \"\".join(before_fix)\n",
    "print(after_fix)"
   ]
  },
  {
   "cell_type": "code",
   "execution_count": 14,
   "metadata": {},
   "outputs": [],
   "source": [
    "before_fix = 'sss? sss? sss. i am'"
   ]
  },
  {
   "cell_type": "code",
   "execution_count": 15,
   "metadata": {},
   "outputs": [
    {
     "data": {
      "text/plain": [
       "3"
      ]
     },
     "execution_count": 15,
     "metadata": {},
     "output_type": "execute_result"
    }
   ],
   "source": [
    "before_fix.find('? ')\n",
    "#before_fix.find('! ')\n",
    "#before_fix.find('. ')"
   ]
  },
  {
   "cell_type": "code",
   "execution_count": 16,
   "metadata": {},
   "outputs": [
    {
     "data": {
      "text/plain": [
       "'sss? sss? sss. I am'"
      ]
     },
     "execution_count": 16,
     "metadata": {},
     "output_type": "execute_result"
    }
   ],
   "source": [
    "fixed = before_fix.replace(' i ', ' I ')\n",
    "\n",
    "fixed"
   ]
  },
  {
   "cell_type": "code",
   "execution_count": 8,
   "metadata": {},
   "outputs": [
    {
     "data": {
      "text/plain": [
       "'TesT'"
      ]
     },
     "execution_count": 8,
     "metadata": {},
     "output_type": "execute_result"
    }
   ],
   "source": [
    "test = 'test'\n",
    "\n",
    "test = test.replace('t', 'T')\n",
    "\n",
    "test"
   ]
  },
  {
   "cell_type": "code",
   "execution_count": 6,
   "metadata": {},
   "outputs": [
    {
     "name": "stdout",
     "output_type": "stream",
     "text": [
      "0 :  a\n",
      "1 :  b\n",
      "2 :  c\n",
      "3 :  d\n",
      "4 :  e\n"
     ]
    }
   ],
   "source": [
    "test = ['a', 'b', 'c', 'd', 'e']\n",
    "\n",
    "for idx, t in enumerate(test):\n",
    "    print(idx, ': ', t)"
   ]
  },
  {
   "cell_type": "code",
   "execution_count": 2,
   "metadata": {},
   "outputs": [
    {
     "data": {
      "text/plain": [
       "'test'"
      ]
     },
     "execution_count": 2,
     "metadata": {},
     "output_type": "execute_result"
    }
   ],
   "source": [
    "test = 'test'\n",
    "test = test.upper(inplace=False)\n",
    "\n",
    "test"
   ]
  },
  {
   "cell_type": "markdown",
   "metadata": {},
   "source": [
    "Exercise 92: Is a Number Prime?\n",
    "\n",
    "(Solved—28 Lines)\n",
    "\n",
    "A prime number is an integer greater than 1 that is only divisible by one and itself.\n",
    "Write a function that determines whether or not its parameter is prime, returning\n",
    "True if it is, and False otherwise. Write a main program that reads an integer\n",
    "from the user and displays a message indicating whether or not it is prime. Ensure\n",
    "that the main program will not run if the file containing your solution is imported\n",
    "into another program."
   ]
  },
  {
   "cell_type": "markdown",
   "metadata": {},
   "source": [
    "소수는 1보다 큰 정수로 하나와 그 자체로 나눌 수 있습니다. 매개 변수가 소수인지 여부를 결정하고, True이면 True를, 그렇지 않으면 False를 반환하는 함수를 작성하십시오. 사용자로부터 정수를 읽고 주수인지 여부를 나타내는 메시지를 표시하는 주 프로그램을 작성하십시오. 솔루션이 포함 된 파일을 다른 프로그램으로 가져 오면 기본 프로그램이 실행되지 않도록하십시오."
   ]
  },
  {
   "cell_type": "markdown",
   "metadata": {},
   "source": [
    "1. 소수이면 True\n",
    "2. 소수가 아니면 False\n",
    "3. 소수 = 자기와 1로만 나눠지는 수\n"
   ]
  },
  {
   "cell_type": "code",
   "execution_count": 17,
   "metadata": {},
   "outputs": [
    {
     "name": "stdout",
     "output_type": "stream",
     "text": [
      "Enter number : 1\n"
     ]
    }
   ],
   "source": [
    "data = int(input('Enter number : '))\n",
    "\n",
    "for div_num in range(2,data):\n",
    "    # div_num -> 2 ~ data-1\n",
    "    if data % div_num == 0:\n",
    "        print('False')\n",
    "        break\n",
    "    else :\n",
    "        print('True')"
   ]
  },
  {
   "cell_type": "code",
   "execution_count": null,
   "metadata": {},
   "outputs": [],
   "source": []
  },
  {
   "cell_type": "markdown",
   "metadata": {},
   "source": [
    "Exercise 96: Check a Password\n",
    "    \n",
    "(Solved—40 Lines)\n",
    "\n",
    "In this exercise you will write a function that determines whether or not a password\n",
    "is good. We will define a good password to be a one that is at least 8 characters\n",
    "long and contains at least one uppercase letter, at least one lowercase letter, and at\n",
    "least one number. Your function should return true if the password passed to it as\n",
    "its only parameter is good. Otherwise it should return false. Include a main program\n",
    "that reads a password from the user and reports whether or not it is good. Ensure that your main program only runs when your solution has not been imported into\n",
    "another file."
   ]
  },
  {
   "cell_type": "markdown",
   "metadata": {},
   "source": [
    "이 연습에서는 암호의 유무를 결정하는 함수를 작성합니다. 우리는 적어도 8 자 이상의 대문자, 하나 이상의 소문자 및 적어도 하나의 숫자를 포함하는 좋은 암호를 정의 할 것입니다. 유일한 매개 변수로서 암호가 전달되면 함수는 true를 반환해야합니다. 그렇지 않은 경우는 false를 리턴합니다. 사용자로부터 암호를 읽고 그것이 좋은지 여부를보고하는 주 프로그램을 포함하십시오. 솔루션이 다른 파일로 가져 오기되지 않은 경우에만 주 프로그램이 실행되는지 확인하십시오."
   ]
  },
  {
   "cell_type": "markdown",
   "metadata": {},
   "source": [
    "1. 8자이상\n",
    "2. 하나이상의 소문자, 대문자, 숫자"
   ]
  },
  {
   "cell_type": "code",
   "execution_count": 22,
   "metadata": {
    "scrolled": false
   },
   "outputs": [
    {
     "name": "stdout",
     "output_type": "stream",
     "text": [
      "Input password : 1aW\n",
      "more than 8 letter\n",
      "Input more than one Upper letter\n"
     ]
    }
   ],
   "source": [
    "pw_list = []\n",
    "password = list(input('Input password : '))\n",
    "\n",
    "if len(password) < 8 :\n",
    "    print('more than 8 letter')\n",
    "else :\n",
    "    for check in password :\n",
    "        if check.isupper() == True :\n",
    "            pw_list.append(1)  # 대문자를 넣었을경우 list에 1 append\n",
    "        elif check.islower() == True :\n",
    "            pw_list.append(2) # 소문자를 넣었을경우 list에 2 append\n",
    "        else :\n",
    "            pw_list.append(3) # 숫자 넣었을경우 3 append\n",
    "            \n",
    "if 1 not in pw_list :\n",
    "    print('Input more than one Upper letter')\n",
    "elif 2 not in pw_list :\n",
    "    print('Input more than one Lower letter')\n",
    "elif 3 not in pw_list :\n",
    "    print('Input more than one number letter')\n",
    "else:\n",
    "    print('True')"
   ]
  },
  {
   "cell_type": "markdown",
   "metadata": {},
   "source": [
    "str.isupper\n",
    "str.islower #모두 대문자 모두 소문자"
   ]
  },
  {
   "cell_type": "code",
   "execution_count": null,
   "metadata": {},
   "outputs": [],
   "source": [
    "1"
   ]
  },
  {
   "cell_type": "code",
   "execution_count": null,
   "metadata": {},
   "outputs": [],
   "source": [
    "'1'"
   ]
  },
  {
   "cell_type": "code",
   "execution_count": 50,
   "metadata": {},
   "outputs": [],
   "source": [
    "pw = '1q2w3e4R'"
   ]
  },
  {
   "cell_type": "code",
   "execution_count": 53,
   "metadata": {},
   "outputs": [
    {
     "name": "stdout",
     "output_type": "stream",
     "text": [
      "참 잘했어요.:  1q2w3e4R\n"
     ]
    }
   ],
   "source": [
    "pw_check = True\n",
    "\n",
    "if len(pw) < 8:\n",
    "    print('길이는 8보다 길어야 합니다.')\n",
    "    pw_check = False\n",
    "\n",
    "if pw.isdigit() or pw.isupper():\n",
    "    print('소문자 하나 이상 입력하시오.')\n",
    "    pw_check = False\n",
    "\n",
    "if pw.isdigit() or pw.islower():\n",
    "    print('대문자 하나 이상 입력하시오.')\n",
    "    pw_check = False\n",
    "    \n",
    "if pw.isalpha():\n",
    "    print('숫자 하나 이상 입력하시오.')\n",
    "    pw_check = False\n",
    "    \n",
    "if pw_check:\n",
    "    print('참 잘했어요.: ', pw)"
   ]
  },
  {
   "cell_type": "code",
   "execution_count": 47,
   "metadata": {},
   "outputs": [
    {
     "data": {
      "text/plain": [
       "True"
      ]
     },
     "execution_count": 47,
     "metadata": {},
     "output_type": "execute_result"
    }
   ],
   "source": [
    "pw.isdigit()"
   ]
  },
  {
   "cell_type": "code",
   "execution_count": 28,
   "metadata": {},
   "outputs": [
    {
     "data": {
      "text/plain": [
       "True"
      ]
     },
     "execution_count": 28,
     "metadata": {},
     "output_type": "execute_result"
    }
   ],
   "source": [
    "pw = 'abc'\n",
    "\n"
   ]
  },
  {
   "attachments": {
    "image.png": {
     "image/png": "[encoded data removed]"
    }
   },
   "cell_type": "markdown",
   "metadata": {},
   "source": [
    "Exercise 130: Text Messaging\n",
    "    \n",
    "(21 Lines)\n",
    "\n",
    "On some basic cell phones, text messages can be sent using the numeric keypad.\n",
    "Because each key has multiple letters associated with it, multiple key presses are\n",
    "needed for most letters. Pressing the number once generates the first letter on the\n",
    "key. Pressing the number 2, 3, 4 or 5 times generates the second, third, fourth or fifth\n",
    "character listed for that key.\n",
    "\n",
    "![image.png](attachment:image.png)\n",
    "\n",
    "Write a program that displays the key presses that must be made to enter a text\n",
    "message read from the user. Construct a dictionary that maps from each letter or\n",
    "symbol to the key presses. Then use the dictionary to generate and display the presses\n",
    "for the user’s message. For example, if the user enters Hello, World! then your\n",
    "program should output 4433555555666110966677755531111. Ensure that\n",
    "your program handles both uppercase and lowercase letters. Ignore any characters\n",
    "that aren’t listed in the table above such as semicolons and brackets."
   ]
  },
  {
   "cell_type": "markdown",
   "metadata": {},
   "source": [
    "5 1번누르면 j\n",
    "2번누르면 k\n",
    "3번누르면 ㅣ\n",
    "\n",
    "~~문자열 받기 -> split 통해 문자나누기~~\n",
    "\n",
    "리스트로해서 같은숫자들끼리 하나의 원소? 로 묶어서 딕셔너리로 key value 해서 출력\n",
    "\n"
   ]
  },
  {
   "cell_type": "code",
   "execution_count": 16,
   "metadata": {},
   "outputs": [],
   "source": [
    "key_dict = {1:'.', 11:',', 111:'?', 1111:'!', 11111:':',\n",
    "            2:'A', 22:'B', 222:'C',\n",
    "            3:'D', 33:'E', 333:'F',\n",
    "            4:'G', 44:'H', 444:'I',\n",
    "            5:'J', 55:'K', 555:'L',\n",
    "            6:'M', 66:'N', 666:'O',\n",
    "            7:'P', 77:'Q', 777:'R', 7777:'S',\n",
    "            8:'T', 88:'U', 888:'V',\n",
    "            9:'W', 99:'X', 999:'Y', 9999:'Z', 0:' '}"
   ]
  },
  {
   "cell_type": "code",
   "execution_count": 29,
   "metadata": {},
   "outputs": [
    {
     "name": "stdout",
     "output_type": "stream",
     "text": [
      "Inpu dial : 123111\n",
      "['2', '3', '1', '1', '1']\n"
     ]
    }
   ],
   "source": [
    "a = 0\n",
    "dial = list(input('Inpu dial : '))\n",
    "\n",
    "for add in dial:\n",
    "    if add == dial[a+1]:\n",
    "        dial.pop(a)\n",
    "print(dial)    "
   ]
  },
  {
   "cell_type": "markdown",
   "metadata": {},
   "source": [
    "ㅡㅡㅡㅡㅡㅡㅡㅡㅡㅡㅡㅡㅡㅡㅡㅡㅡㅡㅡㅡㅡㅡㅡㅡㅡㅡㅡㅡㅡㅡㅡㅡㅡㅡㅡㅡㅡㅡㅡㅡㅡㅡㅡㅡㅡㅡㅡㅡ"
   ]
  },
  {
   "cell_type": "code",
   "execution_count": null,
   "metadata": {},
   "outputs": [],
   "source": []
  },
  {
   "cell_type": "code",
   "execution_count": null,
   "metadata": {},
   "outputs": [],
   "source": []
  },
  {
   "cell_type": "code",
   "execution_count": null,
   "metadata": {},
   "outputs": [],
   "source": []
  },
  {
   "cell_type": "code",
   "execution_count": null,
   "metadata": {},
   "outputs": [],
   "source": []
  },
  {
   "cell_type": "code",
   "execution_count": null,
   "metadata": {},
   "outputs": [],
   "source": []
  },
  {
   "cell_type": "code",
   "execution_count": null,
   "metadata": {},
   "outputs": [],
   "source": []
  },
  {
   "cell_type": "code",
   "execution_count": null,
   "metadata": {},
   "outputs": [],
   "source": []
  },
  {
   "cell_type": "code",
   "execution_count": null,
   "metadata": {},
   "outputs": [],
   "source": []
  },
  {
   "cell_type": "code",
   "execution_count": null,
   "metadata": {},
   "outputs": [],
   "source": []
  },
  {
   "cell_type": "code",
   "execution_count": null,
   "metadata": {},
   "outputs": [],
   "source": []
  }
 ],
 "metadata": {
  "kernelspec": {
   "display_name": "Python 3",
   "language": "python",
   "name": "python3"
  },
  "language_info": {
   "codemirror_mode": {
    "name": "ipython",
    "version": 3
   },
   "file_extension": ".py",
   "mimetype": "text/x-python",
   "name": "python",
   "nbconvert_exporter": "python",
   "pygments_lexer": "ipython3",
   "version": "3.6.5"
  }
 },
 "nbformat": 4,
 "nbformat_minor": 2
}
